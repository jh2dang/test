{
 "cells": [
  {
   "cell_type": "code",
   "execution_count": 7,
   "id": "435eb491",
   "metadata": {},
   "outputs": [
    {
     "name": "stdout",
     "output_type": "stream",
     "text": [
      "3 4 5 6\n",
      "True\n",
      "True\n",
      "True\n",
      "True\n"
     ]
    }
   ],
   "source": [
    "a, b, c, d = map(int, input().split())\n",
    "m = (a+b+c+d)/4\n",
    "if a > m:\n",
    "    print(\"{}>{}\".format(a,m))\n",
    "elif a == m:\n",
    "    print(\"{}=={}\".format(a,m))\n",
    "elif a < m:\n",
    "    print(\"{}<{}\".format(a,m))\n",
    "if b > m:\n",
    "    print(\"{}>{}\".format(b,m))\n",
    "elif b == m:\n",
    "    print(\"{}=={}\".format(b,m))\n",
    "elif b < m:\n",
    "    print(\"{}<{}\".format(b,m))\n",
    "if c > m:\n",
    "    print(\"{}>{}\".format(c,m))\n",
    "elif c == m:\n",
    "    print(\"{}=={}\".format(c,m))\n",
    "elif c < m:\n",
    "    print(\"{}<{}\".format(c,m))\n",
    "if d > m:\n",
    "    print(\"{}>{}\".format(d,m))\n",
    "elif d == m:\n",
    "    print(\"{}>{}\".format(d,m))\n",
    "elif d < m:\n",
    "    print(d < m)"
   ]
  },
  {
   "cell_type": "code",
   "execution_count": null,
   "id": "bf713044",
   "metadata": {},
   "outputs": [],
   "source": []
  },
  {
   "cell_type": "code",
   "execution_count": null,
   "id": "5cf5d73b",
   "metadata": {},
   "outputs": [],
   "source": []
  },
  {
   "cell_type": "code",
   "execution_count": null,
   "id": "d98c4a30",
   "metadata": {},
   "outputs": [],
   "source": []
  },
  {
   "cell_type": "code",
   "execution_count": null,
   "id": "8bfbed08",
   "metadata": {},
   "outputs": [],
   "source": []
  },
  {
   "cell_type": "code",
   "execution_count": null,
   "id": "8a82b67e",
   "metadata": {},
   "outputs": [],
   "source": []
  },
  {
   "cell_type": "code",
   "execution_count": null,
   "id": "1b0b5ec8",
   "metadata": {},
   "outputs": [],
   "source": []
  },
  {
   "cell_type": "code",
   "execution_count": null,
   "id": "0724ad75",
   "metadata": {},
   "outputs": [],
   "source": []
  }
 ],
 "metadata": {
  "kernelspec": {
   "display_name": "Python 3 (ipykernel)",
   "language": "python",
   "name": "python3"
  },
  "language_info": {
   "codemirror_mode": {
    "name": "ipython",
    "version": 3
   },
   "file_extension": ".py",
   "mimetype": "text/x-python",
   "name": "python",
   "nbconvert_exporter": "python",
   "pygments_lexer": "ipython3",
   "version": "3.9.13"
  }
 },
 "nbformat": 4,
 "nbformat_minor": 5
}
