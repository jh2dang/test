{
 "cells": [
  {
   "cell_type": "code",
   "execution_count": 1,
   "id": "d5e6aef7",
   "metadata": {},
   "outputs": [
    {
     "name": "stdout",
     "output_type": "stream",
     "text": [
      "7 4\n",
      "가깝다\n"
     ]
    }
   ],
   "source": [
    "a, b= map(int, input().split())\n",
    "m = a - b\n",
    "if m > 5:\n",
    "    print(\"멀다\")\n",
    "else:\n",
    "    print(\"가깝다\")"
   ]
  },
  {
   "cell_type": "code",
   "execution_count": null,
   "id": "d1b9df94",
   "metadata": {},
   "outputs": [],
   "source": [
    "a, b= map(int, input().split())\n",
    "gkq = a + b\n",
    "rhq = a * b\n",
    "if gkq > 10:\n",
    "    print(\"합만세\")\n",
    "else:\n",
    "    pass\n",
    "if rhq > 10:\n",
    "    print(\"곱만세\")\n",
    "else:\n",
    "    pass"
   ]
  },
  {
   "cell_type": "code",
   "execution_count": null,
   "id": "5f369c17",
   "metadata": {},
   "outputs": [],
   "source": []
  },
  {
   "cell_type": "code",
   "execution_count": null,
   "id": "7a454cb0",
   "metadata": {},
   "outputs": [],
   "source": []
  },
  {
   "cell_type": "code",
   "execution_count": null,
   "id": "57165d0a",
   "metadata": {},
   "outputs": [],
   "source": []
  },
  {
   "cell_type": "code",
   "execution_count": null,
   "id": "2deec6af",
   "metadata": {},
   "outputs": [],
   "source": []
  },
  {
   "cell_type": "code",
   "execution_count": null,
   "id": "505e6386",
   "metadata": {},
   "outputs": [],
   "source": []
  },
  {
   "cell_type": "code",
   "execution_count": null,
   "id": "bf40ecb2",
   "metadata": {},
   "outputs": [],
   "source": []
  }
 ],
 "metadata": {
  "kernelspec": {
   "display_name": "Python 3 (ipykernel)",
   "language": "python",
   "name": "python3"
  },
  "language_info": {
   "codemirror_mode": {
    "name": "ipython",
    "version": 3
   },
   "file_extension": ".py",
   "mimetype": "text/x-python",
   "name": "python",
   "nbconvert_exporter": "python",
   "pygments_lexer": "ipython3",
   "version": "3.9.13"
  }
 },
 "nbformat": 4,
 "nbformat_minor": 5
}
